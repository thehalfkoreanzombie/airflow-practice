{
 "cells": [
  {
   "cell_type": "markdown",
   "metadata": {},
   "source": [
    "1. Read data from a CSV into a Pandas DataFrame"
   ]
  },
  {
   "cell_type": "code",
   "execution_count": 42,
   "metadata": {},
   "outputs": [],
   "source": [
    "import pandas as pd\n",
    "\n",
    "def csv_to_df():\n",
    "    fast_food_df = pd.read_csv('./dsa-airflow/data/India_Menu.csv')\n",
    "    fast_food_df.to_csv('./dsa-airflow/data/India_Menu_Final.csv')\n",
    "\n",
    "csv_to_df()"
   ]
  },
  {
   "cell_type": "markdown",
   "metadata": {},
   "source": [
    "1. Update the `DataFrame`: \n",
    "    \n",
    "    - Drop any `Null` or `NaN` values\n",
    "    \n",
    "    - Only include rows for the Regular Menu, Gourmet Menu, or Breakfast Menu"
   ]
  },
  {
   "cell_type": "code",
   "execution_count": 43,
   "metadata": {},
   "outputs": [
    {
     "name": "stdout",
     "output_type": "stream",
     "text": [
      "       Menu Category              Menu Items Per Serve Size  Energy (kCal)  \\\n",
      "0       Regular Menu        McVeggie™ Burger          168 g         402.05   \n",
      "1       Regular Menu    McAloo Tikki Burger®          146 g         339.52   \n",
      "2       Regular Menu  McSpicy™ Paneer Burger          199 g         652.76   \n",
      "3       Regular Menu       Spicy Paneer Wrap          250 g         674.68   \n",
      "4       Regular Menu     American Veg Burger          177 g         512.17   \n",
      "..               ...                     ...            ...            ...   \n",
      "136  Condiments Menu  Tomato Ketchup Sachets            8 g          11.23   \n",
      "137  Condiments Menu             Maple Syrup           30 g          86.40   \n",
      "138  Condiments Menu            Cheese Slice           14 g          51.03   \n",
      "139  Condiments Menu              Sweet Corn           40 g          45.08   \n",
      "140  Condiments Menu    Mixed Fruit Beverage         180 ml          72.25   \n",
      "\n",
      "     Protein (g)  Total fat (g)  Sat Fat (g)  Trans fat (g)  \\\n",
      "0          10.24          13.83         5.34           0.16   \n",
      "1           8.50          11.31         4.27           0.20   \n",
      "2          20.29          39.45        17.12           0.18   \n",
      "3          20.96          39.10        19.73           0.26   \n",
      "4          15.30          23.45        10.51           0.17   \n",
      "..           ...            ...          ...            ...   \n",
      "136         0.08          23.45         0.00           0.01   \n",
      "137         0.00           0.00         0.00           0.00   \n",
      "138         3.06           3.99         2.89           0.01   \n",
      "139         1.47           1.00         0.22           0.04   \n",
      "140         0.65           0.02         0.02           0.02   \n",
      "\n",
      "     Cholesterols (mg)  Total carbohydrate (g)  Total Sugars (g)  \\\n",
      "0                 2.49                   56.54              7.90   \n",
      "1                 1.47                   50.27              7.05   \n",
      "2                21.85                   52.33              8.35   \n",
      "3                40.93                   59.27              3.50   \n",
      "4                25.24                   56.96              7.85   \n",
      "..                 ...                     ...               ...   \n",
      "136               0.08                    2.63              2.33   \n",
      "137               0.30                   21.60             16.20   \n",
      "138              13.43                    0.72              0.54   \n",
      "139               2.00                    7.55              2.54   \n",
      "140               0.01                   18.00             16.83   \n",
      "\n",
      "     Added Sugars (g)  Sodium (mg)  \n",
      "0                4.49       706.13  \n",
      "1                4.07       545.34  \n",
      "2                5.27      1074.58  \n",
      "3                1.08      1087.46  \n",
      "4                4.76      1051.24  \n",
      "..                ...          ...  \n",
      "136              1.64        71.05  \n",
      "137              5.34        15.00  \n",
      "138              0.00       178.95  \n",
      "139              0.00         0.04  \n",
      "140              0.00        10.80  \n",
      "\n",
      "[140 rows x 13 columns]\n"
     ]
    }
   ],
   "source": [
    "def drop_null():\n",
    "    fast_food_df = pd.read_csv('./dsa-airflow/data/India_Menu.csv')\n",
    "    fast_food_df.dropna(inplace=True)\n",
    "    fast_food_df.to_csv('./dsa-airflow/data/India_Menu_Final.csv')\n",
    "    print(fast_food_df)\n",
    "\n",
    "drop_null()"
   ]
  },
  {
   "cell_type": "code",
   "execution_count": 44,
   "metadata": {},
   "outputs": [],
   "source": [
    "def choose_menus():\n",
    "    fast_food_df = pd.read_csv('./dsa-airflow/data/India_Menu.csv')\n",
    "    values = ['Regular Menu', 'Gourmet Menu', 'Breakfast Menu']\n",
    "    fast_food_df = fast_food_df[fast_food_df['Menu Category'].isin(values)]\n",
    "    fast_food_df = fast_food_df.reset_index(drop=True)\n",
    "    fast_food_df.to_csv('./dsa-airflow/data/India_Menu_Final.csv')\n",
    "\n",
    "choose_menus()"
   ]
  },
  {
   "cell_type": "markdown",
   "metadata": {},
   "source": [
    "1. Write the following information into a file:\n",
    "    - The menu item with the most calories\n",
    "    \n",
    "    - The average amount of fat for menu items\n",
    "    \n",
    "    - All menu items that contain the word 'Lava'"
   ]
  },
  {
   "cell_type": "code",
   "execution_count": 45,
   "metadata": {},
   "outputs": [],
   "source": [
    "def read_info_to_file():\n",
    "    fast_food_df = pd.read_csv('./dsa-airflow/data/India_Menu_Final.csv')\n",
    "    lava_menu_df = fast_food_df[fast_food_df['Menu Items'].str.contains('Lava')]\n",
    "    lava_menu_list = lava_menu_df['Menu Items'].tolist()\n",
    "    lava_menu_items = lava_menu_list[0], lava_menu_list[1]\n",
    "    new_line = '\\n'\n",
    "    menu_aggs = f\"Most Calories: {fast_food_df['Energy (kCal)'].max()},{new_line}Average Fat: {fast_food_df['Total fat (g)'].mean()},{new_line}All menu items with 'Lava': {lava_menu_items}\"\n",
    "    with open('./dsa-airflow/txt/menu_info.txt', 'w') as menus_file:\n",
    "        menus_file.write(menu_aggs)\n",
    "    fast_food_df.to_csv('./dsa-airflow/data/India_Menu_Final.csv')\n",
    "    \n",
    "read_info_to_file()"
   ]
  },
  {
   "cell_type": "markdown",
   "metadata": {},
   "source": [
    "1. Write out the data in JSON format"
   ]
  },
  {
   "cell_type": "code",
   "execution_count": 56,
   "metadata": {},
   "outputs": [],
   "source": [
    "def load_into_json():\n",
    "    fast_food_df = pd.read_csv('./dsa-airflow/data/India_Menu.csv')\n",
    "    fast_food_df.to_json('./dsa-airflow/data/India_Menu_Final.json', orient='records', lines=True)\n",
    "\n",
    "load_into_json()"
   ]
  }
 ],
 "metadata": {
  "kernelspec": {
   "display_name": "venv",
   "language": "python",
   "name": "python3"
  },
  "language_info": {
   "codemirror_mode": {
    "name": "ipython",
    "version": 3
   },
   "file_extension": ".py",
   "mimetype": "text/x-python",
   "name": "python",
   "nbconvert_exporter": "python",
   "pygments_lexer": "ipython3",
   "version": "3.11.6"
  }
 },
 "nbformat": 4,
 "nbformat_minor": 2
}
